{
  "nbformat": 4,
  "nbformat_minor": 0,
  "metadata": {
    "colab": {
      "provenance": [],
      "gpuType": "T4"
    },
    "kernelspec": {
      "name": "python3",
      "display_name": "Python 3"
    },
    "language_info": {
      "name": "python"
    },
    "accelerator": "GPU"
  },
  "cells": [
    {
      "cell_type": "markdown",
      "source": [
        "# **Mount Drive**\n",
        "\n",
        "Make sure your model have been saved to google drive. Don't put your model in a folder."
      ],
      "metadata": {
        "id": "DlkxDvvIebYf"
      }
    },
    {
      "cell_type": "code",
      "execution_count": null,
      "metadata": {
        "id": "j1OnfTlqGxOy",
        "colab": {
          "base_uri": "https://localhost:8080/",
          "height": 329
        },
        "outputId": "15a701d2-f2a1-4c92-c09f-afd1faeabe16"
      },
      "outputs": [
        {
          "output_type": "error",
          "ename": "KeyboardInterrupt",
          "evalue": "ignored",
          "traceback": [
            "\u001b[0;31m---------------------------------------------------------------------------\u001b[0m",
            "\u001b[0;31mKeyboardInterrupt\u001b[0m                         Traceback (most recent call last)",
            "\u001b[0;32m<ipython-input-1-d5df0069828e>\u001b[0m in \u001b[0;36m<cell line: 2>\u001b[0;34m()\u001b[0m\n\u001b[1;32m      1\u001b[0m \u001b[0;32mfrom\u001b[0m \u001b[0mgoogle\u001b[0m\u001b[0;34m.\u001b[0m\u001b[0mcolab\u001b[0m \u001b[0;32mimport\u001b[0m \u001b[0mdrive\u001b[0m\u001b[0;34m\u001b[0m\u001b[0;34m\u001b[0m\u001b[0m\n\u001b[0;32m----> 2\u001b[0;31m \u001b[0mdrive\u001b[0m\u001b[0;34m.\u001b[0m\u001b[0mmount\u001b[0m\u001b[0;34m(\u001b[0m\u001b[0;34m'/content/drive'\u001b[0m\u001b[0;34m)\u001b[0m\u001b[0;34m\u001b[0m\u001b[0;34m\u001b[0m\u001b[0m\n\u001b[0m",
            "\u001b[0;32m/usr/local/lib/python3.10/dist-packages/google/colab/drive.py\u001b[0m in \u001b[0;36mmount\u001b[0;34m(mountpoint, force_remount, timeout_ms, readonly)\u001b[0m\n\u001b[1;32m    101\u001b[0m \u001b[0;32mdef\u001b[0m \u001b[0mmount\u001b[0m\u001b[0;34m(\u001b[0m\u001b[0mmountpoint\u001b[0m\u001b[0;34m,\u001b[0m \u001b[0mforce_remount\u001b[0m\u001b[0;34m=\u001b[0m\u001b[0;32mFalse\u001b[0m\u001b[0;34m,\u001b[0m \u001b[0mtimeout_ms\u001b[0m\u001b[0;34m=\u001b[0m\u001b[0;36m120000\u001b[0m\u001b[0;34m,\u001b[0m \u001b[0mreadonly\u001b[0m\u001b[0;34m=\u001b[0m\u001b[0;32mFalse\u001b[0m\u001b[0;34m)\u001b[0m\u001b[0;34m:\u001b[0m\u001b[0;34m\u001b[0m\u001b[0;34m\u001b[0m\u001b[0m\n\u001b[1;32m    102\u001b[0m   \u001b[0;34m\"\"\"Mount your Google Drive at the specified mountpoint path.\"\"\"\u001b[0m\u001b[0;34m\u001b[0m\u001b[0;34m\u001b[0m\u001b[0m\n\u001b[0;32m--> 103\u001b[0;31m   return _mount(\n\u001b[0m\u001b[1;32m    104\u001b[0m       \u001b[0mmountpoint\u001b[0m\u001b[0;34m,\u001b[0m\u001b[0;34m\u001b[0m\u001b[0;34m\u001b[0m\u001b[0m\n\u001b[1;32m    105\u001b[0m       \u001b[0mforce_remount\u001b[0m\u001b[0;34m=\u001b[0m\u001b[0mforce_remount\u001b[0m\u001b[0;34m,\u001b[0m\u001b[0;34m\u001b[0m\u001b[0;34m\u001b[0m\u001b[0m\n",
            "\u001b[0;32m/usr/local/lib/python3.10/dist-packages/google/colab/drive.py\u001b[0m in \u001b[0;36m_mount\u001b[0;34m(mountpoint, force_remount, timeout_ms, ephemeral, readonly)\u001b[0m\n\u001b[1;32m    130\u001b[0m   )\n\u001b[1;32m    131\u001b[0m   \u001b[0;32mif\u001b[0m \u001b[0mephemeral\u001b[0m\u001b[0;34m:\u001b[0m\u001b[0;34m\u001b[0m\u001b[0;34m\u001b[0m\u001b[0m\n\u001b[0;32m--> 132\u001b[0;31m     _message.blocking_request(\n\u001b[0m\u001b[1;32m    133\u001b[0m         \u001b[0;34m'request_auth'\u001b[0m\u001b[0;34m,\u001b[0m \u001b[0mrequest\u001b[0m\u001b[0;34m=\u001b[0m\u001b[0;34m{\u001b[0m\u001b[0;34m'authType'\u001b[0m\u001b[0;34m:\u001b[0m \u001b[0;34m'dfs_ephemeral'\u001b[0m\u001b[0;34m}\u001b[0m\u001b[0;34m,\u001b[0m \u001b[0mtimeout_sec\u001b[0m\u001b[0;34m=\u001b[0m\u001b[0;32mNone\u001b[0m\u001b[0;34m\u001b[0m\u001b[0;34m\u001b[0m\u001b[0m\n\u001b[1;32m    134\u001b[0m     )\n",
            "\u001b[0;32m/usr/local/lib/python3.10/dist-packages/google/colab/_message.py\u001b[0m in \u001b[0;36mblocking_request\u001b[0;34m(request_type, request, timeout_sec, parent)\u001b[0m\n\u001b[1;32m    174\u001b[0m       \u001b[0mrequest_type\u001b[0m\u001b[0;34m,\u001b[0m \u001b[0mrequest\u001b[0m\u001b[0;34m,\u001b[0m \u001b[0mparent\u001b[0m\u001b[0;34m=\u001b[0m\u001b[0mparent\u001b[0m\u001b[0;34m,\u001b[0m \u001b[0mexpect_reply\u001b[0m\u001b[0;34m=\u001b[0m\u001b[0;32mTrue\u001b[0m\u001b[0;34m\u001b[0m\u001b[0;34m\u001b[0m\u001b[0m\n\u001b[1;32m    175\u001b[0m   )\n\u001b[0;32m--> 176\u001b[0;31m   \u001b[0;32mreturn\u001b[0m \u001b[0mread_reply_from_input\u001b[0m\u001b[0;34m(\u001b[0m\u001b[0mrequest_id\u001b[0m\u001b[0;34m,\u001b[0m \u001b[0mtimeout_sec\u001b[0m\u001b[0;34m)\u001b[0m\u001b[0;34m\u001b[0m\u001b[0;34m\u001b[0m\u001b[0m\n\u001b[0m",
            "\u001b[0;32m/usr/local/lib/python3.10/dist-packages/google/colab/_message.py\u001b[0m in \u001b[0;36mread_reply_from_input\u001b[0;34m(message_id, timeout_sec)\u001b[0m\n\u001b[1;32m     94\u001b[0m     \u001b[0mreply\u001b[0m \u001b[0;34m=\u001b[0m \u001b[0m_read_next_input_message\u001b[0m\u001b[0;34m(\u001b[0m\u001b[0;34m)\u001b[0m\u001b[0;34m\u001b[0m\u001b[0;34m\u001b[0m\u001b[0m\n\u001b[1;32m     95\u001b[0m     \u001b[0;32mif\u001b[0m \u001b[0mreply\u001b[0m \u001b[0;34m==\u001b[0m \u001b[0m_NOT_READY\u001b[0m \u001b[0;32mor\u001b[0m \u001b[0;32mnot\u001b[0m \u001b[0misinstance\u001b[0m\u001b[0;34m(\u001b[0m\u001b[0mreply\u001b[0m\u001b[0;34m,\u001b[0m \u001b[0mdict\u001b[0m\u001b[0;34m)\u001b[0m\u001b[0;34m:\u001b[0m\u001b[0;34m\u001b[0m\u001b[0;34m\u001b[0m\u001b[0m\n\u001b[0;32m---> 96\u001b[0;31m       \u001b[0mtime\u001b[0m\u001b[0;34m.\u001b[0m\u001b[0msleep\u001b[0m\u001b[0;34m(\u001b[0m\u001b[0;36m0.025\u001b[0m\u001b[0;34m)\u001b[0m\u001b[0;34m\u001b[0m\u001b[0;34m\u001b[0m\u001b[0m\n\u001b[0m\u001b[1;32m     97\u001b[0m       \u001b[0;32mcontinue\u001b[0m\u001b[0;34m\u001b[0m\u001b[0;34m\u001b[0m\u001b[0m\n\u001b[1;32m     98\u001b[0m     if (\n",
            "\u001b[0;31mKeyboardInterrupt\u001b[0m: "
          ]
        }
      ],
      "source": [
        "from google.colab import drive\n",
        "drive.mount('/content/drive')"
      ]
    },
    {
      "cell_type": "code",
      "source": [
        "import tensorflow as tf"
      ],
      "metadata": {
        "id": "F-QrUacJHBh7"
      },
      "execution_count": null,
      "outputs": []
    },
    {
      "cell_type": "code",
      "source": [
        "path = '/content/drive/MyDrive/{check_your_model_here}.h5'"
      ],
      "metadata": {
        "id": "PwXom-FPOOL2"
      },
      "execution_count": null,
      "outputs": []
    },
    {
      "cell_type": "markdown",
      "source": [
        "# **Load a Pre-trained Model**"
      ],
      "metadata": {
        "id": "lqOgSv971OQh"
      }
    },
    {
      "cell_type": "code",
      "source": [
        "load_model = tf.keras.models.load_model(path)"
      ],
      "metadata": {
        "id": "PZiJxOboHCUT"
      },
      "execution_count": null,
      "outputs": []
    },
    {
      "cell_type": "code",
      "source": [
        "def get_class_info():\n",
        "    class_info = {\n",
        "      'trash': {\n",
        "          'prediction': 'personal use waste',\n",
        "          'message': 'Personal use waste refers to the type of waste generated from daily use by individuals. This can include items such as diapers, masks, pads, toothbrushes, and many more. Generally, this waste cannot be recycled due to sanitation issues and the complexity of separating and processing the materials contained in it.',\n",
        "          'recycle_recommendation': 'Not recyclable',\n",
        "          'action': 'Problems with sanitation issues and the complexity of separating and processing the materials contained in it make this type of waste non-recyclable.'\n",
        "      },\n",
        "      'glass': {\n",
        "          'prediction': 'glass',\n",
        "          'message': 'A glass is a container that is usually cylindrical or conical in shape made from glass, ceramic, plastic, or metal. They are usually used for drinking, and can vary in size depending on their use. Yes, glass waste can be recycled. The glass recycling process involves collecting, breaking, and cleaning glass waste, before melting it and reshaping it into new glass products.',\n",
        "          'recycle_recommendation': 'Recyclable',\n",
        "          'action': 'Building materials, Glass product remanufacturing, Home decoration making, Jewelry making'\n",
        "      },\n",
        "      'plastic': {\n",
        "          'prediction': 'plastic',\n",
        "          'message': 'Plastic is flexible, durable, lightweight, and easily molded into various shapes and sizes. Plastic waste refers to items that are made of plastic and have become useless or unwanted.',\n",
        "          'recycle_recommendation': 'Recyclable',\n",
        "          'action': 'Plant pots, Children toys, Home decorations, Shopping bags'\n",
        "      },\n",
        "      'cardboard': {\n",
        "          'prediction': 'cardboard',\n",
        "          'message': 'Cardboard is a material generally made from recycled paper or wood pulp. It is strong, lightweight, and relatively cheap to produce, making it a popular choice for various packaging and shipping purposes. However, as is the case with plastic and other materials, cardboard can become waste once it is finished being used.',\n",
        "          'recycle_recommendation': 'Recyclable',\n",
        "          'action': 'Picture frame, Bed lamp, File storage, Room decoration, Drawer, Laptop stand'\n",
        "      },\n",
        "      'biological': {\n",
        "          'prediction': 'biological',\n",
        "          'message': 'Biological waste, also known as organic waste or bio-waste, is waste that comes from living organisms or organic matter. This includes things like food waste, animal waste, leaves and tree branches, and so on.',\n",
        "          'recycle_recommendation': 'Recyclable',\n",
        "          'action': 'Pulp, Compost, Biogas production, Animal feed'\n",
        "      },\n",
        "      'battery': {\n",
        "          'prediction': 'battery',\n",
        "          'message': 'Batteries are portable power sources that store and supply electrical energy. They are commonly used in various electronic devices and come in different sizes and types, such as alkaline, lithium-ion, and nickel-cadmium batteries.',\n",
        "          'recycle_recommendation': 'Recyclable',\n",
        "          'action': 'Battery recycling facilities, Proper disposal at designated collection points'\n",
        "      },\n",
        "      'clothes': {\n",
        "          'prediction': 'clothes',\n",
        "          'message': 'Clothes are items of clothing worn by individuals to cover and protect their bodies. They can be made from various materials, including cotton, polyester, silk, and wool. When clothes are no longer needed or become worn-out, they can be considered waste.',\n",
        "          'recycle_recommendation': 'Recyclable',\n",
        "          'action': 'Donation to charitable organizations, Second-hand clothing stores, Textile recycling programs'\n",
        "      },\n",
        "      'metal': {\n",
        "          'prediction': 'metal',\n",
        "          'message': 'Metal waste refers to discarded or unwanted items that are made primarily of metal. Common examples include aluminum cans, steel pipes, copper wires, and iron tools. Metal waste is highly recyclable and can be transformed into new metal products through processes like melting, purification, and reshaping.',\n",
        "          'recycle_recommendation': 'Recyclable',\n",
        "          'action': 'Metal recycling facilities, Scrap metal yards'\n",
        "      },\n",
        "      'shoes': {\n",
        "          'prediction': 'shoes',\n",
        "          'message': 'Shoes are footwear items worn to protect and provide comfort to the feet. They can be made from various materials such as leather, rubber, fabric, and synthetic materials. When shoes are no longer in usable condition, they can be considered waste.',\n",
        "          'recycle_recommendation': 'Recyclable',\n",
        "          'action': 'Donation to charitable organizations, Shoe recycling programs'\n",
        "      },\n",
        "      'paper': {\n",
        "          'prediction': 'paper',\n",
        "          'message': 'Paper is a versatile material made from wood pulp, recycled paper fibers, or other plant-based sources. It is widely used for writing, printing, packaging, and many other purposes. Paper waste includes items like newspapers, magazines, office paper, cardboard, and more.',\n",
        "          'recycle_recommendation': 'Recyclable',\n",
        "          'action': 'Paper recycling facilities, Repulping, Production of new paper products, Origami'\n",
        "      }\n",
        "    }\n",
        "    return class_info"
      ],
      "metadata": {
        "id": "xo3a9GBs1uQH"
      },
      "execution_count": null,
      "outputs": []
    },
    {
      "cell_type": "code",
      "source": [
        "import numpy as np\n",
        "import keras.utils as image\n",
        "from google.colab import files\n",
        "import matplotlib.pyplot as plt\n",
        "\n",
        "def predict_image_classes(load_model, uploaded, IMG_SIZE=(224, 224), threshold=0.6):\n",
        "    class_names = ['battery', 'biological', 'cardboard', 'clothes', 'glass', 'metal', 'paper', 'plastic', 'shoes', 'trash']\n",
        "\n",
        "    class_info = get_class_info()\n",
        "\n",
        "    predicted_images = []\n",
        "    info_dicts = []\n",
        "\n",
        "    fn = list(uploaded.keys())[0]\n",
        "    path = fn\n",
        "    img = image.load_img(path, target_size=IMG_SIZE + (3,))\n",
        "    x = image.img_to_array(img)\n",
        "    x = np.expand_dims(x, axis=0)\n",
        "\n",
        "    images = np.vstack([x])\n",
        "    classes = load_model.predict(images, batch_size=10)\n",
        "    outclass = np.argmax(classes)\n",
        "\n",
        "    plt.imshow(img)\n",
        "    plt.axis('off')\n",
        "\n",
        "    accuracy_percentage = classes[0][outclass] * 100 \n",
        "    plt.title(f\"{accuracy_percentage:.2f}%\")\n",
        "    plt.show()\n",
        "\n",
        "    if np.max(classes) < threshold:\n",
        "      print(\"No class detected.\")\n",
        "    else:\n",
        "      if class_names[outclass] in class_info:\n",
        "        info_dicts.append(class_info[class_names[outclass]])\n",
        "        \n",
        "    predicted_images.append(img)\n",
        "\n",
        "    return predicted_images, info_dicts"
      ],
      "metadata": {
        "id": "JITtsEGfHuFm"
      },
      "execution_count": null,
      "outputs": []
    },
    {
      "cell_type": "code",
      "source": [
        "def print_info_dicts(info_dicts):\n",
        "    for i, info_dict in enumerate(info_dicts):\n",
        "        print(\"====Information====\")\n",
        "        print(f\"Prediction: {info_dict['prediction']}\")\n",
        "        print(f\"Message: {info_dict['message']}\")\n",
        "        print(f\"Recycle recommendation: {info_dict['recycle_recommendation']}\")\n",
        "\n",
        "        # #make action without bullet\n",
        "        # print(f\"Action: {info_dict['action']}\")\n",
        "\n",
        "        actions = info_dict['action'].split(', ')\n",
        "        print(\"Action:\")\n",
        "        for action in actions:\n",
        "            print(f\"• {action}\")\n",
        "        print(\"\\n\")"
      ],
      "metadata": {
        "id": "L2qDYHiThU-E"
      },
      "execution_count": null,
      "outputs": []
    },
    {
      "cell_type": "markdown",
      "source": [
        "# **Upload your Image Here!**"
      ],
      "metadata": {
        "id": "ckOnbEcAXRz1"
      }
    },
    {
      "cell_type": "code",
      "source": [
        "uploaded = files.upload()\n",
        "\n",
        "#print image prediction with the title\n",
        "predicted_images, info_dicts = predict_image_classes(load_model, uploaded)\n",
        "\n",
        "#print information of the picture\n",
        "print_info_dicts(info_dicts)"
      ],
      "metadata": {
        "id": "kCc8WWFed9wT"
      },
      "execution_count": null,
      "outputs": []
    }
  ]
}